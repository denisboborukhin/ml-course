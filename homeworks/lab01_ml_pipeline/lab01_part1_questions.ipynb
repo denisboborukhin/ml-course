{
 "cells": [
  {
   "cell_type": "markdown",
   "metadata": {},
   "source": [
    "*Credits: materials from this notebook belong to YSDA [Practical DL](https://github.com/yandexdataschool/Practical_DL) course. Special thanks for making them available online.*"
   ]
  },
  {
   "cell_type": "markdown",
   "metadata": {},
   "source": [
    "# Lab assignment №1, part 1\n",
    "\n",
    "This lab assignment consists of several parts. You are supposed to make some transformations, train some models, estimate the quality of the models and explain your results.\n",
    "\n",
    "Several comments:\n",
    "* Don't hesitate to ask questions, it's a good practice.\n",
    "* No private/public sharing, please. The copied assignments will be graded with 0 points.\n",
    "* Blocks of this lab will be graded separately."
   ]
  },
  {
   "cell_type": "markdown",
   "metadata": {},
   "source": [
    "## 1. Matrix differentiation"
   ]
  },
  {
   "cell_type": "markdown",
   "metadata": {},
   "source": [
    "Since it easy to google every task please please please try to undestand what's going on. The \"just answer\" thing will be not counted, make sure to present derivation of your solution. It is absolutely OK if you found an answer on web then just exercise in $\\LaTeX$ copying it into here."
   ]
  },
  {
   "cell_type": "markdown",
   "metadata": {},
   "source": [
    "Useful links:\n",
    "- [Matrix Differentiation (EN)](http://www.atmos.washington.edu/~dennis/MatrixCalculus.pdf)\n",
    "- [Матричные вычисления (RU)](http://www.machinelearning.ru/wiki/images/2/2a/Matrix-Gauss.pdf)"
   ]
  },
  {
   "cell_type": "markdown",
   "metadata": {},
   "source": [
    "## Exercise 1"
   ]
  },
  {
   "cell_type": "markdown",
   "metadata": {},
   "source": [
    "$$  \n",
    "y = x^Tx,  \\quad x \\in \\mathbb{R}^N \n",
    "$$"
   ]
  },
  {
   "cell_type": "markdown",
   "metadata": {},
   "source": [
    "$$\n",
    "\\frac{dy}{dx} = 2x\n",
    "$$"
   ]
  },
  {
   "cell_type": "markdown",
   "metadata": {},
   "source": [
    "Solution:\n",
    "$$\n",
    "y = x^T x = \\sum_{i=1}^{N} x_i^2.\n",
    "$$\n",
    "\n",
    "$$\n",
    "\\frac{dy}{dx} = 2x.\n",
    "$$\n"
   ]
  },
  {
   "cell_type": "markdown",
   "metadata": {},
   "source": [
    "## Exercise 2"
   ]
  },
  {
   "cell_type": "markdown",
   "metadata": {},
   "source": [
    "$$ y = tr(AB) \\quad A,B \\in \\mathbb{R}^{N \\times N} $$ "
   ]
  },
  {
   "cell_type": "markdown",
   "metadata": {},
   "source": [
    "$$\n",
    "\\frac{dy}{dA} = B^T\n",
    "$$"
   ]
  },
  {
   "cell_type": "markdown",
   "metadata": {},
   "source": [
    "Solution:  \n",
    "$$ \\text{tr}(AB) = \\text{tr}(BA) $$\n",
    "\n",
    "The derivative of \\( y \\) with respect to \\( A \\) can be expressed using the following result from matrix calculus:\n",
    "\n",
    "$$\n",
    "\\frac{\\partial}{\\partial A} \\text{tr}(AB) = B^T.\n",
    "$$\n",
    "\n",
    "\n",
    "This result is fundamental in optimization problems and various applications in linear algebra and statistics.\n",
    "\n",
    "helpfull link: https://www.math.uwaterloo.ca/~hwolkowi/matrixcookbook.pdf"
   ]
  },
  {
   "cell_type": "markdown",
   "metadata": {},
   "source": [
    "## Exercise 3"
   ]
  },
  {
   "cell_type": "markdown",
   "metadata": {},
   "source": [
    "$$  \n",
    "y = x^TAc , \\quad A\\in \\mathbb{R}^{N \\times N}, x\\in \\mathbb{R}^{N}, c\\in \\mathbb{R}^{N} \n",
    "$$"
   ]
  },
  {
   "cell_type": "markdown",
   "metadata": {},
   "source": [
    "$$\n",
    "\\frac{dy}{dx} = A с\n",
    "$$"
   ]
  },
  {
   "cell_type": "markdown",
   "metadata": {},
   "source": [
    "$$\n",
    "\\frac{dy}{dA} = x c^T\n",
    "$$ "
   ]
  },
  {
   "cell_type": "markdown",
   "metadata": {},
   "source": [
    "Hint for the latter (one of the ways): use *ex. 2* result and the fact \n",
    "$$\n",
    "tr(ABC) = tr (CAB)\n",
    "$$"
   ]
  },
  {
   "cell_type": "markdown",
   "metadata": {
    "collapsed": true,
    "jupyter": {
     "outputs_hidden": true
    }
   },
   "source": [
    "Solution:\n",
    "The function \\( y \\) is defined as:\n",
    "$$\n",
    "y = x^T (A c).\n",
    "$$\n",
    "\n",
    "To find the derivative of \\( y \\) with respect to the vector \\( x \\), we use the following result from matrix calculus:\n",
    "$$\n",
    "\\frac{dy}{dx} = A c.\n",
    "$$\n",
    "\n",
    "$$\n",
    "\\frac{dy}{dA} = x c^T.\n",
    "$$\n",
    "\n",
    "helpfull links:  \n",
    "[The Matrix Cookbook](https://www.math.uwaterloo.ca/~hwolkowi/matrixcookbook.pdf)  \n",
    "[Matrix Derivatives - Dawen Liang](https://dawenl.github.io/files/mat_deriv.pdf)"
   ]
  },
  {
   "cell_type": "markdown",
   "metadata": {},
   "source": [
    "## Exercise 4"
   ]
  },
  {
   "cell_type": "markdown",
   "metadata": {},
   "source": [
    "Classic matrix factorization example. Given matrix $X$ you need to find $A$, $S$ to approximate $X$. This can be done by simple gradient descent iteratively alternating $A$ and $S$ updates.\n",
    "$$\n",
    "J = || X - AS ||_F^2  , \\quad A\\in \\mathbb{R}^{N \\times R} , \\quad S\\in \\mathbb{R}^{R \\times M}\n",
    "$$\n",
    "$$\n",
    "\\frac{dJ}{dS} = -2A^T X + 2A^T AS\n",
    "$$\n",
    "\n",
    "You may use one of the following approaches:"
   ]
  },
  {
   "cell_type": "markdown",
   "metadata": {},
   "source": [
    "#### First approach\n",
    "Using ex.2 and the fact:\n",
    "$$\n",
    "|| X ||_F^2 = tr(XX^T) \n",
    "$$ \n",
    "it is easy to derive gradients (you can find it in one of the refs). "
   ]
  },
  {
   "cell_type": "markdown",
   "metadata": {},
   "source": [
    "#### Solution\n",
    "\n",
    "$$\n",
    "J = || X - AS ||_F^2 = \\text{tr}((X - AS)(X - AS)^T).\n",
    "$$\n",
    "\n",
    "$$\n",
    "J = \\text{tr}(XX^T) - 2\\text{tr}(ASX^T) + \\text{tr}(ASAS^T).\n",
    "$$\n",
    "\n",
    "To find the gradient of J with respect to S, we can use the following results from the previous task:\n",
    "\n",
    "- The gradient of tr(AB) with respect to B is A^T.\n",
    "- The gradient of tr(B^T B) with respect to B is 2B.\n",
    "\n",
    "Applying these results, we get:\n",
    "\n",
    "- Second summand contributes:\n",
    "$$\n",
    "\\frac{d(- 2tr(ASX^T))}{dS} = -2A^T X.\n",
    "$$\n",
    "\n",
    "- Third summand contributes:\n",
    "$$\n",
    "\\frac{d(- 2tr(ASAS^T)}{dS} = A^T AS.\n",
    "$$\n",
    "\n",
    "Final Gradient Expression:  \n",
    "\n",
    "$$\n",
    "\\frac{dJ}{dS} = -2A^T X + 2A^T AS.\n",
    "$$\n",
    "\n"
   ]
  },
  {
   "cell_type": "markdown",
   "metadata": {
    "collapsed": true,
    "jupyter": {
     "outputs_hidden": true
    }
   },
   "source": [
    "## 2. kNN questions\n",
    "Here come the questions from the assignment0_01. Please, refer to the assignment0_01 to get the context of the questions."
   ]
  },
  {
   "cell_type": "markdown",
   "metadata": {},
   "source": [
    "### Question 1\n",
    "\n",
    "Notice the structured patterns in the distance matrix, where some rows or columns are visible brighter. (Note that with the default color scheme black indicates low distances while white indicates high distances.)\n",
    "\n",
    "- What in the data is the cause behind the distinctly bright rows?\n",
    "- What causes the columns?\n",
    "\n",
    "*Your Answer:*\n",
    "1. What in the data is the cause behind the distinctly bright rows?\n",
    "- Outliers: Test points that are significantly different from the majority of the training data will have high distances to all training points, resulting in bright rows.\n",
    "- Distinct Class Features: If a test point belongs to a class that is poorly represented or not represented at all in the training set, it will show up as a bright row due to its dissimilarity to the training data.\n",
    "2. What causes the columns?\n",
    "- Lack of Similarity: If a training point does not have any similar points in the test set, it will also contribute to a bright column \n",
    "\n",
    "\n"
   ]
  },
  {
   "cell_type": "markdown",
   "metadata": {},
   "source": [
    "### Question 2\n",
    "\n",
    "We can also use other distance metrics such as L1 distance.\n",
    "For pixel values $p_{ij}^{(k)}$ at location $(i,j)$ of some image $I_k$, \n",
    "\n",
    "the mean $\\mu$ across all pixels over all images is $$\\mu=\\frac{1}{nhw}\\sum_{k=1}^n\\sum_{i=1}^{h}\\sum_{j=1}^{w}p_{ij}^{(k)}$$\n",
    "And the pixel-wise mean $\\mu_{ij}$ across all images is \n",
    "$$\\mu_{ij}=\\frac{1}{n}\\sum_{k=1}^np_{ij}^{(k)}.$$\n",
    "The general standard deviation $\\sigma$ and pixel-wise standard deviation $\\sigma_{ij}$ is defined similarly.\n",
    "\n",
    "Which of the following preprocessing steps will not change the performance of a Nearest Neighbor classifier that uses L1 distance? Select all that apply.\n",
    "1. Subtracting the mean $\\mu$ ($\\tilde{p}_{ij}^{(k)}=p_{ij}^{(k)}-\\mu$.)\n",
    "2. Subtracting the per pixel mean $\\mu_{ij}$  ($\\tilde{p}_{ij}^{(k)}=p_{ij}^{(k)}-\\mu_{ij}$.)\n",
    "3. Subtracting the mean $\\mu$ and dividing by the standard deviation $\\sigma$.\n",
    "4. Subtracting the pixel-wise mean $\\mu_{ij}$ and dividing by the pixel-wise standard deviation $\\sigma_{ij}$.\n",
    "5. Rotating the coordinate axes of the data.\n",
    "\n",
    "*Your Answer:*  \n",
    "3. Subtracting the mean $\\mu$ and dividing by the standard deviation $\\sigma$.  \n",
    "4. Subtracting the pixel-wise mean $\\mu_{ij}$ and dividing by the pixel-wise standard deviation $\\sigma_{ij}$.  \n",
    "\n",
    "\n",
    "*Your Explanation:*  \n",
    "1. Subtracting the mean $\\mu$ ($\\tilde{p}_{ij}^{(k)}=p_{ij}^{(k)}-\\mu$.):\n",
    "- This operation translates the data but does not affect the relative distances between points. \n",
    "2. Subtracting the per pixel mean $\\mu_{ij}$  ($\\tilde{p}_{ij}^{(k)}=p_{ij}^{(k)}-\\mu_{ij}$.)\n",
    "- Similar to the first option, this also translates the data on a per-pixel basis. \n",
    "3. Subtracting the mean $\\mu$ and dividing by the standard deviation $\\sigma$.\n",
    "- This operation standardizes the data, changing both the scale and location of the data points. While it preserves relative distances, it can alter how distances are computed in terms of their magnitudes, affecting classification performance.\n",
    "4. Subtracting the pixel-wise mean $\\mu_{ij}$ and dividing by the pixel-wise standard deviation $\\sigma_{ij}$.\n",
    "- Like the previous step, this standardizes each pixel across all images. This can change how distances are computed as it alters both scale and location, potentially affecting classification performance.\n",
    "5. Rotating the coordinate axes of the data.\n",
    "- Rotation is an affine transformation that preserves distances. Since L1 distance is sensitive to changes in orientation in high-dimensional spaces, rotating the axes does not affect relative distances in a way that would change nearest neighbors.\n",
    "\n"
   ]
  },
  {
   "cell_type": "markdown",
   "metadata": {},
   "source": [
    "## Question 3\n",
    "\n",
    "Which of the following statements about $k$-Nearest Neighbor ($k$-NN) are true in a classification setting, and for all $k$? Select all that apply.\n",
    "1. The decision boundary (hyperplane between classes in feature space) of the k-NN classifier is linear.\n",
    "2. The training error of a 1-NN will always be lower than that of 5-NN.\n",
    "3. The test error of a 1-NN will always be lower than that of a 5-NN.\n",
    "4. The time needed to classify a test example with the k-NN classifier grows with the size of the training set.\n",
    "5. None of the above.\n",
    "\n",
    "*Your Answer:*  \n",
    "2 and 4  \n",
    "\n",
    "*Your Explanation:*\n",
    "1. The decision boundary (hyperplane between classes in feature space) of the k-NN classifier is linear.\n",
    "- False: The decision boundary of the k-NN classifier is not linear. (used in the assignment)\n",
    "2. The training error of a 1-NN will always be lower than that of 5-NN.\n",
    "- True: The training error of a 1-NN will always be lower than that of 5-NN. In 1-NN each point has its own nearest neighbor, while a 5-NN classifier may misclassify points due to averaging over more neighbors.\n",
    "3. The test error of a 1-NN will always be lower than that of a 5-NN.\n",
    "- False: The test error of a 1-NN will not always be lower than that of a 5-NN. 1-NN can be sensitive to noise and outliers.\n",
    "4. The time needed to classify a test example with the k-NN classifier grows with the size of the training set.\n",
    "- True: More complex processing\n",
    "\n"
   ]
  }
 ],
 "metadata": {
  "kernelspec": {
   "display_name": "Python 3 (ipykernel)",
   "language": "python",
   "name": "python3"
  },
  "language_info": {
   "codemirror_mode": {
    "name": "ipython",
    "version": 3
   },
   "file_extension": ".py",
   "mimetype": "text/x-python",
   "name": "python",
   "nbconvert_exporter": "python",
   "pygments_lexer": "ipython3",
   "version": "3.10.12"
  }
 },
 "nbformat": 4,
 "nbformat_minor": 4
}
